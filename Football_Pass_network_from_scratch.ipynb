{
 "cells": [
  {
   "cell_type": "code",
   "execution_count": null,
   "metadata": {
    "colab": {
     "base_uri": "https://localhost:8080/"
    },
    "id": "2Ux3FpfsVrZ9",
    "outputId": "295e3311-ed10-411c-f52d-e43e30f68dfe"
   },
   "outputs": [],
   "source": [
    "#for SoccerPitch and more analysis pitch visualization library \n",
    "pip install mplsoccer"
   ]
  },
  {
   "cell_type": "code",
   "execution_count": null,
   "metadata": {
    "colab": {
     "base_uri": "https://localhost:8080/",
     "height": 456
    },
    "id": "0u3P0bCIWJxo",
    "outputId": "204413d7-ce54-4189-babe-713249bb318d"
   },
   "outputs": [],
   "source": [
    "from mplsoccer.pitch import Pitch\n",
    "pitch = Pitch(pitch_color='grass', line_color='white', stripe=True)\n",
    "fig, ax = pitch.draw()"
   ]
  },
  {
   "cell_type": "code",
   "execution_count": null,
   "metadata": {},
   "outputs": [],
   "source": [
    "from mplsoccer.pitch import Pitch\n",
    "pitch = Pitch(pitch_type='statsbomb', line_color='black', stripe=True)\n",
    "fig, ax = pitch.draw()"
   ]
  },
  {
   "cell_type": "code",
   "execution_count": null,
   "metadata": {},
   "outputs": [],
   "source": [
    "# Create a matplotlib figure with desired size\n",
    "fig, ax = plt.subplots(figsize=(12, 8))\n",
    "\n",
    "# Create the Pitch object and draw the pitch on the specified figure and axis\n",
    "pitch = Pitch(pitch_type='statsbomb', line_color='black')\n",
    "pitch.draw(ax=ax)\n",
    "\n",
    "# Add your soccer elements here (e.g., scatter, lines, text, etc.)\n",
    "\n",
    "plt.show()  # This displays the plot in the notebook\n",
    "\n",
    "# Save the figure as a PNG file with specified DPI\n",
    "fig.savefig('soccer_pitch.png', dpi=300)  # Adjust filename and DPI as needed\n"
   ]
  },
  {
   "cell_type": "code",
   "execution_count": null,
   "metadata": {
    "id": "WhPaecGBUyLw"
   },
   "outputs": [],
   "source": [
    "import numpy as np\n",
    "import pandas as pd\n",
    "import matplotlib.pyplot as plt\n",
    "from mplsoccer import Pitch,VerticalPitch\n",
    "import seaborn as sns\n",
    "import os\n",
    "import requests\n",
    "from bs4 import BeautifulSoup\n",
    "import json\n",
    "from matplotlib.offsetbox import OffsetImage, AnnotationBbox"
   ]
  },
  {
   "cell_type": "code",
   "execution_count": null,
   "metadata": {
    "colab": {
     "base_uri": "https://localhost:8080/"
    },
    "id": "F0iaZCADWemv",
    "outputId": "ede835c9-621d-4fad-9c37-a4b81cb23d97"
   },
   "outputs": [],
   "source": [
    "url=input(\"enter the url:\" \" \")"
   ]
  },
  {
   "cell_type": "code",
   "execution_count": null,
   "metadata": {
    "id": "L6Kl8zCQWoTv"
   },
   "outputs": [],
   "source": [
    "response = requests.get(\n",
    "    url,\n",
    "    headers={'User-Agent':\"Mozilla/5.0 (Windows NT 10.0; Win64; x64) AppleWebKit/537.36 (KHTML, like Gecko) Chrome/124.0.0.0 Safari/537.36\"} # you'll be blocked if you don't use some type of user agent\n",
    ")"
   ]
  },
  {
   "cell_type": "code",
   "execution_count": null,
   "metadata": {
    "colab": {
     "base_uri": "https://localhost:8080/"
    },
    "id": "Oiqtz6R6cGQ_",
    "outputId": "c2eda52a-ac0b-442e-e885-76c817a2b309"
   },
   "outputs": [],
   "source": [
    "response.status_code"
   ]
  },
  {
   "cell_type": "code",
   "execution_count": null,
   "metadata": {
    "id": "jSokV4TZdcvV"
   },
   "outputs": [],
   "source": [
    "soup=BeautifulSoup(response.content,\"lxml\")\n",
    "scripts=soup.find_all(\"script\")"
   ]
  },
  {
   "cell_type": "code",
   "execution_count": null,
   "metadata": {
    "colab": {
     "base_uri": "https://localhost:8080/"
    },
    "id": "K5JAoK7Coes5",
    "outputId": "991bf91a-9c44-4fbb-badc-9531aaf923dd"
   },
   "outputs": [],
   "source": [
    "scripts"
   ]
  },
  {
   "cell_type": "code",
   "execution_count": null,
   "metadata": {
    "colab": {
     "base_uri": "https://localhost:8080/",
     "height": 1000
    },
    "id": "jAenafUro0AB",
    "outputId": "bff8959b-db01-453d-b59e-faa8871731f8"
   },
   "outputs": [],
   "source": [
    "strings=scripts[22].string #change scripts try range 15-25 to find as per whoScored page script by search matchCentreData \n",
    "strings"
   ]
  },
  {
   "cell_type": "code",
   "execution_count": null,
   "metadata": {
    "id": "vJ_ZbESTrYx_"
   },
   "outputs": [],
   "source": [
    "ind_start=strings.index(\"matchCentreData:\")+17\n",
    "ind_end=strings.index(\",\\r\\n            matchCentreEventTypeJson\")"
   ]
  },
  {
   "cell_type": "code",
   "execution_count": null,
   "metadata": {
    "id": "wx3_rqZl2cxv"
   },
   "outputs": [],
   "source": [
    "jason_data=strings[ind_start:ind_end]"
   ]
  },
  {
   "cell_type": "code",
   "execution_count": null,
   "metadata": {
    "id": "mTNqwK-b2gcW"
   },
   "outputs": [],
   "source": [
    "data=json.loads(jason_data)"
   ]
  },
  {
   "cell_type": "code",
   "execution_count": null,
   "metadata": {
    "id": "NJwYGGz12jhH"
   },
   "outputs": [],
   "source": [
    "events=data[\"events\"]"
   ]
  },
  {
   "cell_type": "code",
   "execution_count": null,
   "metadata": {
    "id": "tkjGedFZ2j-S"
   },
   "outputs": [],
   "source": [
    "df=pd.DataFrame(events)"
   ]
  },
  {
   "cell_type": "code",
   "execution_count": null,
   "metadata": {
    "colab": {
     "base_uri": "https://localhost:8080/",
     "height": 771
    },
    "id": "kRh6DQQr2o5A",
    "outputId": "f3870f19-cf38-430e-af02-62b12c0aa8d3"
   },
   "outputs": [],
   "source": [
    "df"
   ]
  },
  {
   "cell_type": "code",
   "execution_count": null,
   "metadata": {
    "colab": {
     "base_uri": "https://localhost:8080/",
     "height": 409
    },
    "id": "59mbNhp62rmN",
    "outputId": "a87fb3c9-4b2c-4453-d830-92d934c319cf"
   },
   "outputs": [],
   "source": [
    "df.head()"
   ]
  },
  {
   "cell_type": "code",
   "execution_count": null,
   "metadata": {
    "id": "pXo_K0nW-4GB"
   },
   "outputs": [],
   "source": [
    "# create function for cleaning\n",
    "def clean_data(x):\n",
    "    x1=x.apply(lambda x:str(x))\n",
    "    x2=x1.str.split(\":\",n=3,expand=True)[2]\n",
    "    x3=x2.str.replace(\"[^a-zA-Z0-9]\",'',regex=True)\n",
    "    return x3"
   ]
  },
  {
   "cell_type": "code",
   "execution_count": null,
   "metadata": {
    "colab": {
     "base_uri": "https://localhost:8080/",
     "height": 408
    },
    "id": "5AZs2tKl_uhQ",
    "outputId": "60623468-84f3-4de7-dd59-9933c8c82942"
   },
   "outputs": [],
   "source": [
    "# for period ,type\n",
    "df[\"period\"]=clean_data(df[\"period\"])\n",
    "df[\"type\"]=clean_data(df[\"type\"])\n",
    "df[\"outcomeType\"]=clean_data(df[\"outcomeType\"])"
   ]
  },
  {
   "cell_type": "code",
   "execution_count": null,
   "metadata": {
    "id": "6TTJtgS7_zhp"
   },
   "outputs": [],
   "source": [
    "df1=df[[\"id\",\"eventId\",\"minute\",\"second\",\"teamId\",\"x\",\"y\",\"endX\",\"endY\",\"period\",\"type\",\"outcomeType\",\"playerId\"]]"
   ]
  },
  {
   "cell_type": "code",
   "execution_count": null,
   "metadata": {
    "colab": {
     "base_uri": "https://localhost:8080/",
     "height": 3033
    },
    "id": "-m37NzrpAhNd",
    "outputId": "28ca88a4-5996-4e9f-f4f5-573f1fcec1a5"
   },
   "outputs": [],
   "source": [
    "df"
   ]
  },
  {
   "cell_type": "code",
   "execution_count": null,
   "metadata": {
    "id": "IrC9xwA2B9DV"
   },
   "outputs": [],
   "source": [
    "# Save the DataFrame to a CSV file\n",
    "df.to_csv('atlanta-liverpool_3-0_passxy.csv', index=False)"
   ]
  },
  {
   "cell_type": "code",
   "execution_count": null,
   "metadata": {},
   "outputs": [],
   "source": [
    "# Create new columns for recipient\n",
    "df[\"passer_ID\"] = df[\"playerId\"]\n",
    "df[\"recipient_ID\"] = df[\"playerId\"].shift(-1)"
   ]
  },
  {
   "cell_type": "code",
   "execution_count": null,
   "metadata": {},
   "outputs": [],
   "source": [
    "df.head()"
   ]
  },
  {
   "cell_type": "code",
   "execution_count": null,
   "metadata": {},
   "outputs": [],
   "source": [
    "from google.colab import files\n",
    "\n",
    "file_name_PasRecpt = input(\"Enter the file name you want to use (without the .xlsx extension): \")\n",
    "\n",
    "# Save the selected columns to an Excel file\n",
    "selected_columns.to_excel(file_name_PasRecpt + '.xlsx', index=False)\n",
    "\n",
    "# Download the Excel file\n",
    "files.download(file_name_PasRecpt + '.xlsx')"
   ]
  },
  {
   "cell_type": "code",
   "execution_count": null,
   "metadata": {
    "id": "DwsluZ7HAKbq"
   },
   "outputs": [],
   "source": [
    "#FETCH & MERGE PLAYER NAME WITH PLAYER ID\n",
    "\n",
    "player_data=data[\"playerIdNameDictionary\"]"
   ]
  },
  {
   "cell_type": "code",
   "execution_count": null,
   "metadata": {},
   "outputs": [],
   "source": [
    "player_data=pd.Series(player_data)\n",
    "player_data=pd.DataFrame(player_data)\n",
    "player_data.reset_index(inplace=True)"
   ]
  },
  {
   "cell_type": "code",
   "execution_count": null,
   "metadata": {},
   "outputs": [],
   "source": [
    "player_data.columns=[\"playerId\",\"playername\"]"
   ]
  },
  {
   "cell_type": "code",
   "execution_count": null,
   "metadata": {},
   "outputs": [],
   "source": [
    "player_data[\"playerId\"]=player_data[\"playerId\"].apply(lambda x:int(x))"
   ]
  },
  {
   "cell_type": "code",
   "execution_count": null,
   "metadata": {},
   "outputs": [],
   "source": [
    "#MARGE THE NAME OF THE PLAYER AND EVENT DATA\n",
    "df2=pd.merge(df1,player_data,on=\"playerId\",how=\"left\")"
   ]
  },
  {
   "cell_type": "code",
   "execution_count": null,
   "metadata": {},
   "outputs": [],
   "source": [
    "df2"
   ]
  }
 ],
 "metadata": {
  "colab": {
   "provenance": []
  },
  "kernelspec": {
   "display_name": "Python 3 (ipykernel)",
   "language": "python",
   "name": "python3"
  },
  "language_info": {
   "codemirror_mode": {
    "name": "ipython",
    "version": 3
   },
   "file_extension": ".py",
   "mimetype": "text/x-python",
   "name": "python",
   "nbconvert_exporter": "python",
   "pygments_lexer": "ipython3",
   "version": "3.8.18"
  }
 },
 "nbformat": 4,
 "nbformat_minor": 4
}
